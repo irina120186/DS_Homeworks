{
  "nbformat": 4,
  "nbformat_minor": 0,
  "metadata": {
    "colab": {
      "name": "Домашнее задание3.ipynb",
      "provenance": [],
      "collapsed_sections": []
    },
    "kernelspec": {
      "name": "python3",
      "display_name": "Python 3"
    },
    "language_info": {
      "name": "python"
    }
  },
  "cells": [
    {
      "cell_type": "code",
      "source": [
        "import matplotlib.pyplot as plt\n",
        "%matplotlib inline"
      ],
      "metadata": {
        "id": "NpDpAqFVUqBk"
      },
      "execution_count": null,
      "outputs": []
    },
    {
      "cell_type": "code",
      "source": [
        "import pandas as pd\n",
        "import numpy as np"
      ],
      "metadata": {
        "id": "y7fZCn-2Usgj"
      },
      "execution_count": null,
      "outputs": []
    },
    {
      "cell_type": "code",
      "source": [
        "ds=np.array([[3,-4,3,2],[1,7,1,1],[4,3,1,0],[-7,1,-3,-1],[3,-4,-1,-2],[7,-1,3,1]])\n",
        "ds"
      ],
      "metadata": {
        "colab": {
          "base_uri": "https://localhost:8080/"
        },
        "id": "Jg098LGdUfWx",
        "outputId": "feb12b55-a399-47c8-c50b-74a994be69f6"
      },
      "execution_count": null,
      "outputs": [
        {
          "output_type": "execute_result",
          "data": {
            "text/plain": [
              "array([[ 3, -4,  3,  2],\n",
              "       [ 1,  7,  1,  1],\n",
              "       [ 4,  3,  1,  0],\n",
              "       [-7,  1, -3, -1],\n",
              "       [ 3, -4, -1, -2],\n",
              "       [ 7, -1,  3,  1]])"
            ]
          },
          "metadata": {},
          "execution_count": 5
        }
      ]
    },
    {
      "cell_type": "code",
      "source": [
        "df = pd.DataFrame(ds, columns=['p1','p2','p3','p4'])\n",
        "df"
      ],
      "metadata": {
        "colab": {
          "base_uri": "https://localhost:8080/",
          "height": 238
        },
        "id": "ocQHNNm2lGMN",
        "outputId": "60342543-f7e2-4a76-8ee2-9d2172b2a3e0"
      },
      "execution_count": null,
      "outputs": [
        {
          "output_type": "execute_result",
          "data": {
            "text/html": [
              "\n",
              "  <div id=\"df-cf0952ec-ead8-453e-8386-07c91216d159\">\n",
              "    <div class=\"colab-df-container\">\n",
              "      <div>\n",
              "<style scoped>\n",
              "    .dataframe tbody tr th:only-of-type {\n",
              "        vertical-align: middle;\n",
              "    }\n",
              "\n",
              "    .dataframe tbody tr th {\n",
              "        vertical-align: top;\n",
              "    }\n",
              "\n",
              "    .dataframe thead th {\n",
              "        text-align: right;\n",
              "    }\n",
              "</style>\n",
              "<table border=\"1\" class=\"dataframe\">\n",
              "  <thead>\n",
              "    <tr style=\"text-align: right;\">\n",
              "      <th></th>\n",
              "      <th>p1</th>\n",
              "      <th>p2</th>\n",
              "      <th>p3</th>\n",
              "      <th>p4</th>\n",
              "    </tr>\n",
              "  </thead>\n",
              "  <tbody>\n",
              "    <tr>\n",
              "      <th>0</th>\n",
              "      <td>3</td>\n",
              "      <td>-4</td>\n",
              "      <td>3</td>\n",
              "      <td>2</td>\n",
              "    </tr>\n",
              "    <tr>\n",
              "      <th>1</th>\n",
              "      <td>1</td>\n",
              "      <td>7</td>\n",
              "      <td>1</td>\n",
              "      <td>1</td>\n",
              "    </tr>\n",
              "    <tr>\n",
              "      <th>2</th>\n",
              "      <td>4</td>\n",
              "      <td>3</td>\n",
              "      <td>1</td>\n",
              "      <td>0</td>\n",
              "    </tr>\n",
              "    <tr>\n",
              "      <th>3</th>\n",
              "      <td>-7</td>\n",
              "      <td>1</td>\n",
              "      <td>-3</td>\n",
              "      <td>-1</td>\n",
              "    </tr>\n",
              "    <tr>\n",
              "      <th>4</th>\n",
              "      <td>3</td>\n",
              "      <td>-4</td>\n",
              "      <td>-1</td>\n",
              "      <td>-2</td>\n",
              "    </tr>\n",
              "    <tr>\n",
              "      <th>5</th>\n",
              "      <td>7</td>\n",
              "      <td>-1</td>\n",
              "      <td>3</td>\n",
              "      <td>1</td>\n",
              "    </tr>\n",
              "  </tbody>\n",
              "</table>\n",
              "</div>\n",
              "      <button class=\"colab-df-convert\" onclick=\"convertToInteractive('df-cf0952ec-ead8-453e-8386-07c91216d159')\"\n",
              "              title=\"Convert this dataframe to an interactive table.\"\n",
              "              style=\"display:none;\">\n",
              "        \n",
              "  <svg xmlns=\"http://www.w3.org/2000/svg\" height=\"24px\"viewBox=\"0 0 24 24\"\n",
              "       width=\"24px\">\n",
              "    <path d=\"M0 0h24v24H0V0z\" fill=\"none\"/>\n",
              "    <path d=\"M18.56 5.44l.94 2.06.94-2.06 2.06-.94-2.06-.94-.94-2.06-.94 2.06-2.06.94zm-11 1L8.5 8.5l.94-2.06 2.06-.94-2.06-.94L8.5 2.5l-.94 2.06-2.06.94zm10 10l.94 2.06.94-2.06 2.06-.94-2.06-.94-.94-2.06-.94 2.06-2.06.94z\"/><path d=\"M17.41 7.96l-1.37-1.37c-.4-.4-.92-.59-1.43-.59-.52 0-1.04.2-1.43.59L10.3 9.45l-7.72 7.72c-.78.78-.78 2.05 0 2.83L4 21.41c.39.39.9.59 1.41.59.51 0 1.02-.2 1.41-.59l7.78-7.78 2.81-2.81c.8-.78.8-2.07 0-2.86zM5.41 20L4 18.59l7.72-7.72 1.47 1.35L5.41 20z\"/>\n",
              "  </svg>\n",
              "      </button>\n",
              "      \n",
              "  <style>\n",
              "    .colab-df-container {\n",
              "      display:flex;\n",
              "      flex-wrap:wrap;\n",
              "      gap: 12px;\n",
              "    }\n",
              "\n",
              "    .colab-df-convert {\n",
              "      background-color: #E8F0FE;\n",
              "      border: none;\n",
              "      border-radius: 50%;\n",
              "      cursor: pointer;\n",
              "      display: none;\n",
              "      fill: #1967D2;\n",
              "      height: 32px;\n",
              "      padding: 0 0 0 0;\n",
              "      width: 32px;\n",
              "    }\n",
              "\n",
              "    .colab-df-convert:hover {\n",
              "      background-color: #E2EBFA;\n",
              "      box-shadow: 0px 1px 2px rgba(60, 64, 67, 0.3), 0px 1px 3px 1px rgba(60, 64, 67, 0.15);\n",
              "      fill: #174EA6;\n",
              "    }\n",
              "\n",
              "    [theme=dark] .colab-df-convert {\n",
              "      background-color: #3B4455;\n",
              "      fill: #D2E3FC;\n",
              "    }\n",
              "\n",
              "    [theme=dark] .colab-df-convert:hover {\n",
              "      background-color: #434B5C;\n",
              "      box-shadow: 0px 1px 3px 1px rgba(0, 0, 0, 0.15);\n",
              "      filter: drop-shadow(0px 1px 2px rgba(0, 0, 0, 0.3));\n",
              "      fill: #FFFFFF;\n",
              "    }\n",
              "  </style>\n",
              "\n",
              "      <script>\n",
              "        const buttonEl =\n",
              "          document.querySelector('#df-cf0952ec-ead8-453e-8386-07c91216d159 button.colab-df-convert');\n",
              "        buttonEl.style.display =\n",
              "          google.colab.kernel.accessAllowed ? 'block' : 'none';\n",
              "\n",
              "        async function convertToInteractive(key) {\n",
              "          const element = document.querySelector('#df-cf0952ec-ead8-453e-8386-07c91216d159');\n",
              "          const dataTable =\n",
              "            await google.colab.kernel.invokeFunction('convertToInteractive',\n",
              "                                                     [key], {});\n",
              "          if (!dataTable) return;\n",
              "\n",
              "          const docLinkHtml = 'Like what you see? Visit the ' +\n",
              "            '<a target=\"_blank\" href=https://colab.research.google.com/notebooks/data_table.ipynb>data table notebook</a>'\n",
              "            + ' to learn more about interactive tables.';\n",
              "          element.innerHTML = '';\n",
              "          dataTable['output_type'] = 'display_data';\n",
              "          await google.colab.output.renderOutput(dataTable, element);\n",
              "          const docLink = document.createElement('div');\n",
              "          docLink.innerHTML = docLinkHtml;\n",
              "          element.appendChild(docLink);\n",
              "        }\n",
              "      </script>\n",
              "    </div>\n",
              "  </div>\n",
              "  "
            ],
            "text/plain": [
              "   p1  p2  p3  p4\n",
              "0   3  -4   3   2\n",
              "1   1   7   1   1\n",
              "2   4   3   1   0\n",
              "3  -7   1  -3  -1\n",
              "4   3  -4  -1  -2\n",
              "5   7  -1   3   1"
            ]
          },
          "metadata": {},
          "execution_count": 6
        }
      ]
    },
    {
      "cell_type": "markdown",
      "source": [
        "1. \"Поверните\" первые два столбца на угол  arccos(3/5) ."
      ],
      "metadata": {
        "id": "CXxDmP2VFM2C"
      }
    },
    {
      "cell_type": "code",
      "source": [
        "df2 = ds[:, :2]  #берем первые 2 столбца\n",
        "df2\n"
      ],
      "metadata": {
        "colab": {
          "base_uri": "https://localhost:8080/"
        },
        "id": "BNY3_YPFUhQ7",
        "outputId": "7f75e107-21a1-413b-8904-305d02a0852a"
      },
      "execution_count": null,
      "outputs": [
        {
          "output_type": "execute_result",
          "data": {
            "text/plain": [
              "array([[ 3, -4],\n",
              "       [ 1,  7],\n",
              "       [ 4,  3],\n",
              "       [-7,  1],\n",
              "       [ 3, -4],\n",
              "       [ 7, -1]])"
            ]
          },
          "metadata": {},
          "execution_count": 7
        }
      ]
    },
    {
      "cell_type": "code",
      "source": [
        "plt.scatter(df2[:,0], df2[:,1]) "
      ],
      "metadata": {
        "colab": {
          "base_uri": "https://localhost:8080/",
          "height": 282
        },
        "id": "-9SjJo_nmxIf",
        "outputId": "55804e0b-e69b-46c1-f917-31f31bcbbd45"
      },
      "execution_count": null,
      "outputs": [
        {
          "output_type": "execute_result",
          "data": {
            "text/plain": [
              "<matplotlib.collections.PathCollection at 0x7f6a4ac46410>"
            ]
          },
          "metadata": {},
          "execution_count": 8
        },
        {
          "output_type": "display_data",
          "data": {
            "image/png": "[encoded data removed]",
            "text/plain": [
              "<Figure size 432x288 with 1 Axes>"
            ]
          },
          "metadata": {
            "needs_background": "light"
          }
        }
      ]
    },
    {
      "cell_type": "code",
      "source": [
        "r=np.array([[3/5, -4/5],[4/5, 3/5]])  # arccos 3/5 - это угол, косинус которого = 3/5, то есть cos a = 3/5.\n",
        "r"
      ],
      "metadata": {
        "colab": {
          "base_uri": "https://localhost:8080/"
        },
        "id": "2L6a1WSVjpdb",
        "outputId": "d491cda0-57b9-41f2-9f18-22e76f8ced4c"
      },
      "execution_count": null,
      "outputs": [
        {
          "output_type": "execute_result",
          "data": {
            "text/plain": [
              "array([[ 0.6, -0.8],\n",
              "       [ 0.8,  0.6]])"
            ]
          },
          "metadata": {},
          "execution_count": 9
        }
      ]
    },
    {
      "cell_type": "code",
      "source": [
        "NewList=[] #Список новых координат"
      ],
      "metadata": {
        "id": "oRXrgyGDkecN"
      },
      "execution_count": null,
      "outputs": []
    },
    {
      "cell_type": "code",
      "execution_count": null,
      "metadata": {
        "id": "ymj5tB-mjYWc",
        "outputId": "e3c0bc76-75ed-4bcd-e49c-f567a5731ece",
        "colab": {
          "base_uri": "https://localhost:8080/",
          "height": 282
        }
      },
      "outputs": [
        {
          "output_type": "execute_result",
          "data": {
            "text/plain": [
              "<matplotlib.collections.PathCollection at 0x7f6a4a737390>"
            ]
          },
          "metadata": {},
          "execution_count": 11
        },
        {
          "output_type": "display_data",
          "data": {
            "image/png": "[encoded data removed]",
            "text/plain": [
              "<Figure size 432x288 with 1 Axes>"
            ]
          },
          "metadata": {
            "needs_background": "light"
          }
        }
      ],
      "source": [
        "for i in range(df2.shape[0]):   #Преобразуем координаты каждой точки, задаваемой ds\n",
        "    new=r.dot(df2[i])\n",
        "    NewList.append(new)\n",
        "New=np.array(NewList)\n",
        "plt.scatter(New[:,0], New[:,1]) "
      ]
    },
    {
      "cell_type": "markdown",
      "source": [
        "2. Преобразуйте получившуюся матрицу: веса новых признаков 3,2,4,1 соответственно"
      ],
      "metadata": {
        "id": "1FzXsUaS0ACv"
      }
    },
    {
      "cell_type": "code",
      "source": [
        "NewList # новые  столбцы"
      ],
      "metadata": {
        "id": "tsjjJL2h0DZ0",
        "colab": {
          "base_uri": "https://localhost:8080/"
        },
        "outputId": "525bd791-129f-4a83-b330-97e2552f3d71"
      },
      "execution_count": null,
      "outputs": [
        {
          "output_type": "execute_result",
          "data": {
            "text/plain": [
              "[array([5.00000000e+00, 2.22044605e-16]),\n",
              " array([-5.,  5.]),\n",
              " array([-4.4408921e-16,  5.0000000e+00]),\n",
              " array([-5., -5.]),\n",
              " array([5.00000000e+00, 2.22044605e-16]),\n",
              " array([5., 5.])]"
            ]
          },
          "metadata": {},
          "execution_count": 12
        }
      ]
    },
    {
      "cell_type": "code",
      "source": [
        "old = ds[:, 2:]  #берем другие 2 столбца исходной матрицы\n",
        "old"
      ],
      "metadata": {
        "colab": {
          "base_uri": "https://localhost:8080/"
        },
        "id": "K2aMSLFuFvvL",
        "outputId": "6628dd43-8b64-4bbe-be24-1343c8292d82"
      },
      "execution_count": null,
      "outputs": [
        {
          "output_type": "execute_result",
          "data": {
            "text/plain": [
              "array([[ 3,  2],\n",
              "       [ 1,  1],\n",
              "       [ 1,  0],\n",
              "       [-3, -1],\n",
              "       [-1, -2],\n",
              "       [ 3,  1]])"
            ]
          },
          "metadata": {},
          "execution_count": 13
        }
      ]
    },
    {
      "cell_type": "code",
      "source": [
        "addNew = np.append(NewList, old, axis=1)  #добавляем к новым столбцам прежние\n",
        "addNew"
      ],
      "metadata": {
        "colab": {
          "base_uri": "https://localhost:8080/"
        },
        "id": "cnuaAWnTFvmM",
        "outputId": "a7ed4219-0ab1-4dfc-a4a0-5f2b90fcae92"
      },
      "execution_count": null,
      "outputs": [
        {
          "output_type": "execute_result",
          "data": {
            "text/plain": [
              "array([[ 5.00000000e+00,  2.22044605e-16,  3.00000000e+00,\n",
              "         2.00000000e+00],\n",
              "       [-5.00000000e+00,  5.00000000e+00,  1.00000000e+00,\n",
              "         1.00000000e+00],\n",
              "       [-4.44089210e-16,  5.00000000e+00,  1.00000000e+00,\n",
              "         0.00000000e+00],\n",
              "       [-5.00000000e+00, -5.00000000e+00, -3.00000000e+00,\n",
              "        -1.00000000e+00],\n",
              "       [ 5.00000000e+00,  2.22044605e-16, -1.00000000e+00,\n",
              "        -2.00000000e+00],\n",
              "       [ 5.00000000e+00,  5.00000000e+00,  3.00000000e+00,\n",
              "         1.00000000e+00]])"
            ]
          },
          "metadata": {},
          "execution_count": 14
        }
      ]
    },
    {
      "cell_type": "code",
      "source": [
        "B = np.array([[3,2,4,1]])   #веса  \n",
        "\n",
        "C = addNew * B    #применим веса\n",
        "C"
      ],
      "metadata": {
        "colab": {
          "base_uri": "https://localhost:8080/"
        },
        "id": "RPiu5AvYGtPR",
        "outputId": "ee8963e2-dbf0-4a46-9566-3ba22f6a5ef7"
      },
      "execution_count": null,
      "outputs": [
        {
          "output_type": "execute_result",
          "data": {
            "text/plain": [
              "array([[ 1.50000000e+01,  4.44089210e-16,  1.20000000e+01,\n",
              "         2.00000000e+00],\n",
              "       [-1.50000000e+01,  1.00000000e+01,  4.00000000e+00,\n",
              "         1.00000000e+00],\n",
              "       [-1.33226763e-15,  1.00000000e+01,  4.00000000e+00,\n",
              "         0.00000000e+00],\n",
              "       [-1.50000000e+01, -1.00000000e+01, -1.20000000e+01,\n",
              "        -1.00000000e+00],\n",
              "       [ 1.50000000e+01,  4.44089210e-16, -4.00000000e+00,\n",
              "        -2.00000000e+00],\n",
              "       [ 1.50000000e+01,  1.00000000e+01,  1.20000000e+01,\n",
              "         1.00000000e+00]])"
            ]
          },
          "metadata": {},
          "execution_count": 15
        }
      ]
    },
    {
      "cell_type": "markdown",
      "source": [
        "3. Какие признаки образуют линейно независимую подсистему? (проверить используя ранг)"
      ],
      "metadata": {
        "id": "6ZRo5PbLIb5R"
      }
    },
    {
      "cell_type": "code",
      "source": [
        "ranC = np.linalg.matrix_rank(C)\n",
        "\n",
        "print(\"Матрица:\\n\", C) \n",
        "print(\"Ранг матрицы:\", ranC)"
      ],
      "metadata": {
        "colab": {
          "base_uri": "https://localhost:8080/"
        },
        "id": "mOoQ_cyYIOyH",
        "outputId": "ff93004f-0dd4-4df6-8ff5-39325b702c50"
      },
      "execution_count": null,
      "outputs": [
        {
          "output_type": "stream",
          "name": "stdout",
          "text": [
            "Матрица:\n",
            " [[ 1.50000000e+01  4.44089210e-16  1.20000000e+01  2.00000000e+00]\n",
            " [-1.50000000e+01  1.00000000e+01  4.00000000e+00  1.00000000e+00]\n",
            " [-1.33226763e-15  1.00000000e+01  4.00000000e+00  0.00000000e+00]\n",
            " [-1.50000000e+01 -1.00000000e+01 -1.20000000e+01 -1.00000000e+00]\n",
            " [ 1.50000000e+01  4.44089210e-16 -4.00000000e+00 -2.00000000e+00]\n",
            " [ 1.50000000e+01  1.00000000e+01  1.20000000e+01  1.00000000e+00]]\n",
            "Ранг матрицы: 3\n"
          ]
        }
      ]
    },
    {
      "cell_type": "code",
      "source": [
        "\n",
        "print(np.linalg.matrix_rank(C) == C.shape[0])"
      ],
      "metadata": {
        "colab": {
          "base_uri": "https://localhost:8080/"
        },
        "id": "p0DjL-jBJP2F",
        "outputId": "c9fec948-b587-440a-ad7d-8ea3c16211cb"
      },
      "execution_count": null,
      "outputs": [
        {
          "output_type": "stream",
          "name": "stdout",
          "text": [
            "False\n"
          ]
        }
      ]
    },
    {
      "cell_type": "markdown",
      "source": [
        " \"векторы линейно независимы тогда и только тогда, когда ранг полученной матрицы совпадает с числом векторов.\" Здесь ранг не совпадает, поэтому все векторы здесь не являются линейно независимыми "
      ],
      "metadata": {
        "id": "08kUua5tKJ83"
      }
    },
    {
      "cell_type": "code",
      "source": [
        "С1 = C[:, 1:]  #берем без первого столбца\n",
        "С1"
      ],
      "metadata": {
        "colab": {
          "base_uri": "https://localhost:8080/"
        },
        "id": "pwiXK0UDaPbE",
        "outputId": "eae248a3-f016-46b1-9af8-6e30e1f11857"
      },
      "execution_count": null,
      "outputs": [
        {
          "output_type": "execute_result",
          "data": {
            "text/plain": [
              "array([[ 4.4408921e-16,  1.2000000e+01,  2.0000000e+00],\n",
              "       [ 1.0000000e+01,  4.0000000e+00,  1.0000000e+00],\n",
              "       [ 1.0000000e+01,  4.0000000e+00,  0.0000000e+00],\n",
              "       [-1.0000000e+01, -1.2000000e+01, -1.0000000e+00],\n",
              "       [ 4.4408921e-16, -4.0000000e+00, -2.0000000e+00],\n",
              "       [ 1.0000000e+01,  1.2000000e+01,  1.0000000e+00]])"
            ]
          },
          "metadata": {},
          "execution_count": 18
        }
      ]
    },
    {
      "cell_type": "code",
      "source": [
        "ranС1 = np.linalg.matrix_rank(С1)\n",
        "print(\"Ранг матрицы:\", ranС1)\n",
        "print(np.linalg.matrix_rank(С1) == С1.shape[0])"
      ],
      "metadata": {
        "colab": {
          "base_uri": "https://localhost:8080/"
        },
        "id": "QV2fT9H5scTk",
        "outputId": "9a592f69-5db7-4281-bbeb-38482ad2a144"
      },
      "execution_count": null,
      "outputs": [
        {
          "output_type": "stream",
          "name": "stdout",
          "text": [
            "Ранг матрицы: 3\n",
            "False\n"
          ]
        }
      ]
    },
    {
      "cell_type": "markdown",
      "source": [
        "Система по-прежнему не является линейно независимой. Попробуем взять ниже еще без одного признака - без второго столбца."
      ],
      "metadata": {
        "id": "-iJkA30ttBjN"
      }
    },
    {
      "cell_type": "code",
      "source": [
        "С11 = C[:, :3]  #берем без последнего столбца\n",
        "С11"
      ],
      "metadata": {
        "colab": {
          "base_uri": "https://localhost:8080/"
        },
        "id": "fO_O2H9kaIfB",
        "outputId": "2785c138-1159-4841-9e0e-275d8e1639ce"
      },
      "execution_count": null,
      "outputs": [
        {
          "output_type": "execute_result",
          "data": {
            "text/plain": [
              "array([[ 1.50000000e+01,  4.44089210e-16,  1.20000000e+01],\n",
              "       [-1.50000000e+01,  1.00000000e+01,  4.00000000e+00],\n",
              "       [-1.33226763e-15,  1.00000000e+01,  4.00000000e+00],\n",
              "       [-1.50000000e+01, -1.00000000e+01, -1.20000000e+01],\n",
              "       [ 1.50000000e+01,  4.44089210e-16, -4.00000000e+00],\n",
              "       [ 1.50000000e+01,  1.00000000e+01,  1.20000000e+01]])"
            ]
          },
          "metadata": {},
          "execution_count": 31
        }
      ]
    },
    {
      "cell_type": "code",
      "source": [
        "ranС11 = np.linalg.matrix_rank(С11)\n",
        "print(\"Ранг матрицы:\", ranС11)\n",
        "print(np.linalg.matrix_rank(С11) == С11.shape[0])"
      ],
      "metadata": {
        "colab": {
          "base_uri": "https://localhost:8080/"
        },
        "id": "ROYHOUoGasT5",
        "outputId": "82a78fb8-696b-4633-9e4c-a2a6782d124a"
      },
      "execution_count": null,
      "outputs": [
        {
          "output_type": "stream",
          "name": "stdout",
          "text": [
            "Ранг матрицы: 3\n",
            "False\n"
          ]
        }
      ]
    },
    {
      "cell_type": "markdown",
      "source": [
        "Система по-прежнему не является линейно независимой. Попробуем взять ниже еще без одного признака - без другого столбца."
      ],
      "metadata": {
        "id": "UAIgfo55a0DA"
      }
    },
    {
      "cell_type": "code",
      "source": [
        "\n",
        "С12 = C[:, 0::2]  #берем без второго столбца\n",
        "С12"
      ],
      "metadata": {
        "colab": {
          "base_uri": "https://localhost:8080/"
        },
        "id": "kQY4UpDja6Av",
        "outputId": "c0ad9cbf-7a2c-4215-c9f4-4d949f8ef2bf"
      },
      "execution_count": null,
      "outputs": [
        {
          "output_type": "execute_result",
          "data": {
            "text/plain": [
              "array([[ 1.50000000e+01,  1.20000000e+01],\n",
              "       [-1.50000000e+01,  4.00000000e+00],\n",
              "       [-1.33226763e-15,  4.00000000e+00],\n",
              "       [-1.50000000e+01, -1.20000000e+01],\n",
              "       [ 1.50000000e+01, -4.00000000e+00],\n",
              "       [ 1.50000000e+01,  1.20000000e+01]])"
            ]
          },
          "metadata": {},
          "execution_count": 38
        }
      ]
    },
    {
      "cell_type": "code",
      "source": [
        "С13 = C[:, 3:]  #берем последний столбец\n",
        "С13"
      ],
      "metadata": {
        "colab": {
          "base_uri": "https://localhost:8080/"
        },
        "id": "QWIdV2Zdcxfv",
        "outputId": "44370475-7807-42cc-9e59-42bffa356379"
      },
      "execution_count": null,
      "outputs": [
        {
          "output_type": "execute_result",
          "data": {
            "text/plain": [
              "array([[ 2.],\n",
              "       [ 1.],\n",
              "       [ 0.],\n",
              "       [-1.],\n",
              "       [-2.],\n",
              "       [ 1.]])"
            ]
          },
          "metadata": {},
          "execution_count": 42
        }
      ]
    },
    {
      "cell_type": "code",
      "source": [
        "С14 = np.append(С12, С13, axis=1)  #добавляем к столбцам последний. таким образом получаем без 2-го столбца\n",
        "С14"
      ],
      "metadata": {
        "colab": {
          "base_uri": "https://localhost:8080/"
        },
        "id": "1moQvDBRdCdX",
        "outputId": "bd83bb89-391f-4254-8d52-b88e236fce76"
      },
      "execution_count": null,
      "outputs": [
        {
          "output_type": "execute_result",
          "data": {
            "text/plain": [
              "array([[ 1.50000000e+01,  1.20000000e+01,  2.00000000e+00],\n",
              "       [-1.50000000e+01,  4.00000000e+00,  1.00000000e+00],\n",
              "       [-1.33226763e-15,  4.00000000e+00,  0.00000000e+00],\n",
              "       [-1.50000000e+01, -1.20000000e+01, -1.00000000e+00],\n",
              "       [ 1.50000000e+01, -4.00000000e+00, -2.00000000e+00],\n",
              "       [ 1.50000000e+01,  1.20000000e+01,  1.00000000e+00]])"
            ]
          },
          "metadata": {},
          "execution_count": 44
        }
      ]
    },
    {
      "cell_type": "code",
      "source": [
        "ranС14 = np.linalg.matrix_rank(С14)\n",
        "print(\"Ранг матрицы:\", ranС14)\n",
        "print(np.linalg.matrix_rank(С14) == С14.shape[0])"
      ],
      "metadata": {
        "colab": {
          "base_uri": "https://localhost:8080/"
        },
        "id": "zpjlvuYHduq_",
        "outputId": "d3e82868-5a36-4a7c-9d1a-f050124be4f3"
      },
      "execution_count": null,
      "outputs": [
        {
          "output_type": "stream",
          "name": "stdout",
          "text": [
            "Ранг матрицы: 3\n",
            "False\n"
          ]
        }
      ]
    },
    {
      "cell_type": "code",
      "source": [
        "С15 = C[:, :-2:1]  #берем 2 первые столбца\n",
        "С15"
      ],
      "metadata": {
        "colab": {
          "base_uri": "https://localhost:8080/"
        },
        "id": "7TJH9ItSeef_",
        "outputId": "1d74d92b-b429-4278-ea35-d5ce8d27d790"
      },
      "execution_count": null,
      "outputs": [
        {
          "output_type": "execute_result",
          "data": {
            "text/plain": [
              "array([[ 1.50000000e+01,  4.44089210e-16],\n",
              "       [-1.50000000e+01,  1.00000000e+01],\n",
              "       [-1.33226763e-15,  1.00000000e+01],\n",
              "       [-1.50000000e+01, -1.00000000e+01],\n",
              "       [ 1.50000000e+01,  4.44089210e-16],\n",
              "       [ 1.50000000e+01,  1.00000000e+01]])"
            ]
          },
          "metadata": {},
          "execution_count": 51
        }
      ]
    },
    {
      "cell_type": "code",
      "source": [
        "С16 = np.append(С15, С13, axis=1)  #добавляем к столбцам последний. таким образом получаем без 3-го столбца\n",
        "С16"
      ],
      "metadata": {
        "colab": {
          "base_uri": "https://localhost:8080/"
        },
        "id": "hQ7CpuRTfuq-",
        "outputId": "7a79ff14-b999-42c4-9696-e5aa612b6511"
      },
      "execution_count": null,
      "outputs": [
        {
          "output_type": "execute_result",
          "data": {
            "text/plain": [
              "array([[ 1.50000000e+01,  4.44089210e-16,  2.00000000e+00,\n",
              "         2.00000000e+00,  2.00000000e+00],\n",
              "       [-1.50000000e+01,  1.00000000e+01,  1.00000000e+00,\n",
              "         1.00000000e+00,  1.00000000e+00],\n",
              "       [-1.33226763e-15,  1.00000000e+01,  0.00000000e+00,\n",
              "         0.00000000e+00,  0.00000000e+00],\n",
              "       [-1.50000000e+01, -1.00000000e+01, -1.00000000e+00,\n",
              "        -1.00000000e+00, -1.00000000e+00],\n",
              "       [ 1.50000000e+01,  4.44089210e-16, -2.00000000e+00,\n",
              "        -2.00000000e+00, -2.00000000e+00],\n",
              "       [ 1.50000000e+01,  1.00000000e+01,  1.00000000e+00,\n",
              "         1.00000000e+00,  1.00000000e+00]])"
            ]
          },
          "metadata": {},
          "execution_count": 58
        }
      ]
    },
    {
      "cell_type": "code",
      "source": [
        "ranС16 = np.linalg.matrix_rank(С16)\n",
        "print(\"Ранг матрицы:\", ranС16)\n",
        "print(np.linalg.matrix_rank(С16) == С16.shape[0])"
      ],
      "metadata": {
        "colab": {
          "base_uri": "https://localhost:8080/"
        },
        "id": "g4mmDHefgE4W",
        "outputId": "910e34fd-d6a7-438d-87a5-0923b89c2d5e"
      },
      "execution_count": null,
      "outputs": [
        {
          "output_type": "stream",
          "name": "stdout",
          "text": [
            "Ранг матрицы: 3\n",
            "False\n"
          ]
        }
      ]
    },
    {
      "cell_type": "code",
      "source": [
        "С2 = С1[:, 1:]  #берем без первого столбца\n",
        "С2"
      ],
      "metadata": {
        "colab": {
          "base_uri": "https://localhost:8080/"
        },
        "id": "7dAwC7BRtPz0",
        "outputId": "878db92b-c51d-44b6-bbd7-8be440cda79c"
      },
      "execution_count": null,
      "outputs": [
        {
          "output_type": "execute_result",
          "data": {
            "text/plain": [
              "array([], shape=(6, 0), dtype=float64)"
            ]
          },
          "metadata": {},
          "execution_count": 21
        }
      ]
    },
    {
      "cell_type": "code",
      "source": [
        "С2 = C[:, 2:]  #берем без первого столбца   КОПИЯ\n",
        "С2"
      ],
      "metadata": {
        "colab": {
          "base_uri": "https://localhost:8080/"
        },
        "outputId": "d64b51ce-a004-4d17-ffa7-92aa0993804b",
        "id": "vkirGBfTwMlV"
      },
      "execution_count": null,
      "outputs": [
        {
          "output_type": "execute_result",
          "data": {
            "text/plain": [
              "array([[ 12.,   2.],\n",
              "       [  4.,   1.],\n",
              "       [  4.,   0.],\n",
              "       [-12.,  -1.],\n",
              "       [ -4.,  -2.],\n",
              "       [ 12.,   1.]])"
            ]
          },
          "metadata": {},
          "execution_count": 22
        }
      ]
    },
    {
      "cell_type": "code",
      "source": [
        ""
      ],
      "metadata": {
        "id": "ZK38lLbQwMLt"
      },
      "execution_count": null,
      "outputs": []
    },
    {
      "cell_type": "code",
      "source": [
        "ranС2 = np.linalg.matrix_rank(С2)\n",
        "print(\"Ранг матрицы:\", ranС2)\n",
        "print(np.linalg.matrix_rank(С2) == С2.shape[0])"
      ],
      "metadata": {
        "colab": {
          "base_uri": "https://localhost:8080/"
        },
        "id": "pKkG-JWdtrXU",
        "outputId": "23494bc4-6e48-4ae5-e443-0cadf26f7242"
      },
      "execution_count": null,
      "outputs": [
        {
          "output_type": "stream",
          "name": "stdout",
          "text": [
            "Ранг матрицы: 2\n",
            "False\n"
          ]
        }
      ]
    },
    {
      "cell_type": "markdown",
      "source": [
        "Система по-прежнему не является линейно независимой. Попробуем взять ниже еще без одного признака - без следующего столбца."
      ],
      "metadata": {
        "id": "XceeUupbt9Ck"
      }
    },
    {
      "cell_type": "code",
      "source": [
        "С3 = С2[:, 1:]  #берем без первого столбца\n",
        "С3"
      ],
      "metadata": {
        "colab": {
          "base_uri": "https://localhost:8080/"
        },
        "id": "wGSx2DFcuDGG",
        "outputId": "6e0ad867-bc21-45d5-a087-e3004e1c414c"
      },
      "execution_count": null,
      "outputs": [
        {
          "output_type": "execute_result",
          "data": {
            "text/plain": [
              "array([[ 2.],\n",
              "       [ 1.],\n",
              "       [ 0.],\n",
              "       [-1.],\n",
              "       [-2.],\n",
              "       [ 1.]])"
            ]
          },
          "metadata": {},
          "execution_count": 24
        }
      ]
    },
    {
      "cell_type": "code",
      "source": [
        "ranС3 = np.linalg.matrix_rank(С3)\n",
        "print(\"Ранг матрицы:\", ranС3)\n",
        "print(np.linalg.matrix_rank(С3) == С3.shape[0])"
      ],
      "metadata": {
        "colab": {
          "base_uri": "https://localhost:8080/"
        },
        "id": "zbbN4U5xuTls",
        "outputId": "c34418f0-af32-4164-ec74-4ec7641fb27e"
      },
      "execution_count": null,
      "outputs": [
        {
          "output_type": "stream",
          "name": "stdout",
          "text": [
            "Ранг матрицы: 1\n",
            "False\n"
          ]
        }
      ]
    },
    {
      "cell_type": "markdown",
      "source": [
        "Система по-прежнему не является линейно независимой."
      ],
      "metadata": {
        "id": "p8GQcgveuzE7"
      }
    },
    {
      "cell_type": "markdown",
      "source": [
        "Ниже проверка по строкам. "
      ],
      "metadata": {
        "id": "t7PAkPUvu0NE"
      }
    },
    {
      "cell_type": "code",
      "source": [
        "a = np.array([ 1.50000000e+01,  4.44089210e-16,  1.20000000e+01,\n",
        "         2.00000000e+00])\n",
        "b = np.array([-1.50000000e+01,  1.00000000e+01,  4.00000000e+00,\n",
        "         1.00000000e+00])\n",
        "c = np.array([-1.33226763e-15,  1.00000000e+01,  4.00000000e+00,\n",
        "         0.00000000e+00])\n",
        "\n",
        "m = np.array([a, b, c])\n",
        "m"
      ],
      "metadata": {
        "colab": {
          "base_uri": "https://localhost:8080/"
        },
        "id": "FYmY9wUHKGfP",
        "outputId": "389bf3a9-1f0e-4a4b-8f13-0295fda800c3"
      },
      "execution_count": null,
      "outputs": [
        {
          "output_type": "execute_result",
          "data": {
            "text/plain": [
              "array([[ 1.50000000e+01,  4.44089210e-16,  1.20000000e+01,\n",
              "         2.00000000e+00],\n",
              "       [-1.50000000e+01,  1.00000000e+01,  4.00000000e+00,\n",
              "         1.00000000e+00],\n",
              "       [-1.33226763e-15,  1.00000000e+01,  4.00000000e+00,\n",
              "         0.00000000e+00]])"
            ]
          },
          "metadata": {},
          "execution_count": 26
        }
      ]
    },
    {
      "cell_type": "code",
      "source": [
        "print(np.linalg.matrix_rank(m) == m.shape[0])"
      ],
      "metadata": {
        "colab": {
          "base_uri": "https://localhost:8080/"
        },
        "id": "U_5Qq-gtK6_m",
        "outputId": "86df8258-c7f8-4ea7-8bcc-83da32b82a26"
      },
      "execution_count": null,
      "outputs": [
        {
          "output_type": "stream",
          "name": "stdout",
          "text": [
            "True\n"
          ]
        }
      ]
    },
    {
      "cell_type": "markdown",
      "source": [
        "первые 3 вектора являются линейно независимыми"
      ],
      "metadata": {
        "id": "DU9DyKuGLhRM"
      }
    },
    {
      "cell_type": "code",
      "source": [
        "d = np.array([-1.50000000e+01, -1.00000000e+01, -1.20000000e+01,\n",
        "        -1.00000000e+00])\n",
        "e = np.array([ 1.50000000e+01,  4.44089210e-16, -4.00000000e+00,\n",
        "        -2.00000000e+00])\n",
        "f = np.array([ 1.50000000e+01,  1.00000000e+01,  1.20000000e+01,\n",
        "         1.00000000e+00])\n",
        "mm = np.array([a, b, c])\n",
        "mm"
      ],
      "metadata": {
        "colab": {
          "base_uri": "https://localhost:8080/"
        },
        "id": "9uqVXFxLK2oF",
        "outputId": "5f00eebd-42e8-4bfd-f4c0-0906f190afeb"
      },
      "execution_count": null,
      "outputs": [
        {
          "output_type": "execute_result",
          "data": {
            "text/plain": [
              "array([[ 1.50000000e+01,  4.44089210e-16,  1.20000000e+01,\n",
              "         2.00000000e+00],\n",
              "       [-1.50000000e+01,  1.00000000e+01,  4.00000000e+00,\n",
              "         1.00000000e+00],\n",
              "       [-1.33226763e-15,  1.00000000e+01,  4.00000000e+00,\n",
              "         0.00000000e+00]])"
            ]
          },
          "metadata": {},
          "execution_count": 28
        }
      ]
    },
    {
      "cell_type": "code",
      "source": [
        "print(np.linalg.matrix_rank(mm) == mm.shape[0])"
      ],
      "metadata": {
        "colab": {
          "base_uri": "https://localhost:8080/"
        },
        "id": "vZbX74wgLysp",
        "outputId": "0e83132c-6232-4156-d31b-f8384a0e4d9f"
      },
      "execution_count": null,
      "outputs": [
        {
          "output_type": "stream",
          "name": "stdout",
          "text": [
            "True\n"
          ]
        }
      ]
    },
    {
      "cell_type": "markdown",
      "source": [
        "последние 3 вектора тоже являются линейно независимыми"
      ],
      "metadata": {
        "id": "OoJEM_gAL9x3"
      }
    },
    {
      "cell_type": "code",
      "source": [
        ""
      ],
      "metadata": {
        "id": "w57eU7D-L7bF"
      },
      "execution_count": null,
      "outputs": []
    }
  ]
}